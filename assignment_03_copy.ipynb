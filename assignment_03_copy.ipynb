{
  "cells": [
    {
      "cell_type": "raw",
      "metadata": {},
      "source": [
        "---\n",
        "title: \"Assignment 03\"\n",
        "subtitle: \"Hyperparameter Tunning - Group Number Here\"\n",
        "date: 09/29/2023\n",
        "date-modified: last-modified\n",
        "date-format: long\n",
        "format:\n",
        "  html:\n",
        "    theme: [cosmo, theme.scss]\n",
        "    toc: true\n",
        "    embed-resources: true\n",
        "    number-sections: true\n",
        "author:\n",
        "  - name: Nakul R. Padalkar\n",
        "    affiliations:\n",
        "      - id: gu\n",
        "        name: Georgetown University\n",
        "        city: Washington\n",
        "        state: DC\n",
        "  - name: Michael Varnerin\n",
        "    affiliations:\n",
        "      - ref: gu\n",
        "  - name: Minsuh Lim\n",
        "    affiliations:\n",
        "      - ref: gu\n",
        "  - name: Jingda Yang\n",
        "    affiliations:\n",
        "      - ref: gu\n",
        "---"
      ]
    },
    {
      "cell_type": "markdown",
      "metadata": {},
      "source": [
        "# Instructions (Remove the instructions before submission)\n",
        "\n",
        "This assignment will deal with tuning the hyperparameters for the [online shopping dataset](https://archive.ics.uci.edu/dataset/468/online+shoppers+purchasing+intention+dataset). Make sure to remove the instructions and only keep Q6 onward. The qmd file of this assignment is located in the [files folder](https://georgetown.instructure.com/files/11681026/download?download_frd=1).\n",
        "\n",
        "- This is a group assignment with independent submission on Canvas. Collaboration is essential. Use Git for version control.\n",
        "- Begin by setting your random seed as the last four digits of your GUID.\n",
        "- Prefix each variable with 'g#groupnumber' (e.g., g01_variableName) to ensure uniqueness and to demonstrate originality in your group's work.\n",
        "- add the names of all group members to the YAML header above.\n",
        "- Use of Generative AI tools, including but not restricted to GPT-3 is strictly prohibited.\n",
        "\n",
        "## Git Commit and Collaboration\n",
        "\n",
        "- This is a group assignment. Collaboration is essential. Use Git for version control.\n",
        "- Regular and meaningful commit messages are expected, indicating steady progress and contributions from all group members.\n",
        "- Avoid large, infrequent commits. Instead, aim for more minor, frequent updates showing your code's evolution and thoughts.\n",
        "- Collaboration tools, especially Git, should be used as a backup tool and a truly collaborative platform. Discuss, review, and merge each other's contributions.\n",
        "\n",
        "# Grading Criteria\n",
        "\n",
        "- The assignment is worth 75 points.\n",
        "- There are three grading milestones in the assignment.\n",
        "  - Adherence to Requirements, Coding Standards, Documentation, Runtime, and Efficiency (22 Points)\n",
        "    - Adherence to Requirements (5 Points): Ensure all the given requirements of the assignment, including Git commits and collaboration, are met.\n",
        "    - Coding Standards (5 Points): Code should be readable and maintainable. Ensure appropriate variable naming and code commenting.\n",
        "    - Documentation (6 Points): Provide explanations or reasoning for using a particular command and describe the outputs. Avoid vague descriptions; aim for clarity and depth.\n",
        "    - Runtime (3 Points): The code should execute without errors and handle possible exceptions.\n",
        "    - Efficiency (3 Points): Implement efficient coding practices, avoid redundancy, and optimize for performance where applicable.\n",
        "  - Collaborative Programming (13 Points)\n",
        "    - GitHub Repository Structure (3 Points): A well-organized repository with clear directory structures and meaningful file names.\n",
        "    - Number of Commits (3 Points): Reflects steady progress and contributions from all group members.\n",
        "    - Commit Quality (3 Points): Clear, descriptive commit messages representing logical chunks of work. Avoid trivial commits like \"typo fix.\"\n",
        "    - Collaboration & Contribution (4 Points): Demonstrated teamwork where each member contributes significantly. This can be seen through pull requests, code reviews, and merge activities.\n",
        "  - Assignment Questions (40 Points)\n",
        "\n",
        "# Adherence to Requirements, Coding Standards, Documentation, Runtime, and Efficiency (22 Points)\n",
        "This section is graded based on adherence to Requirements, Coding Standards, \n",
        "Documentation, Runtime, and Efficiency.\n",
        "\n",
        "# Collaborative Programming (13 Points)\n",
        "\n",
        "This section is graded based on the Github submission. Each person needs to have made commits to the repository. GitHub Repository Structure, Number of Commits, Commit Quality, Collaboration, and Contribution are generally graded based on the group's overall performance. However, if there is a significant difference in the number of commits or contributions between group members, the instructor may adjust the grade accordingly.\n",
        "\n",
        "\n",
        "# Assignment Questions (40 Points)\n",
        "\n",
        "# Data Preparation (7 Points):"
      ]
    },
    {
      "cell_type": "code",
      "metadata": {},
      "source": [
        "# Add data preparation code here"
      ],
      "execution_count": null,
      "outputs": []
    },
    {
      "cell_type": "markdown",
      "metadata": {},
      "source": [
        "## Load the dataset and display the dataframe (2 Points)."
      ]
    },
    {
      "cell_type": "code",
      "metadata": {},
      "source": [
        "# Add code here"
      ],
      "execution_count": null,
      "outputs": []
    },
    {
      "cell_type": "markdown",
      "metadata": {},
      "source": [
        "## Use `describe` to provide statistics on the pandas Dataframe (2 Points)."
      ]
    },
    {
      "cell_type": "code",
      "metadata": {},
      "source": [
        "# Add code here"
      ],
      "execution_count": null,
      "outputs": []
    },
    {
      "cell_type": "markdown",
      "metadata": {},
      "source": [
        "## Split the dataset into a Training set and a Test set. Justify your preferred split (3 Points)."
      ]
    },
    {
      "cell_type": "code",
      "metadata": {},
      "source": [
        "# Add code here"
      ],
      "execution_count": null,
      "outputs": []
    },
    {
      "cell_type": "markdown",
      "metadata": {},
      "source": [
        "# Classification Routine (12 Points):\n",
        "\n",
        "Execute a classification routine using RandomForestClassifier(), BaggingClassifier(), and XGboostclassifier(). Independently output the accuracy box plot as discussed in class. Use any package you are comfortable with (seaborn, matplotlib).\n",
        "\n",
        "## RandomForestClassifier():"
      ]
    },
    {
      "cell_type": "code",
      "metadata": {},
      "source": [
        "# Add code here"
      ],
      "execution_count": null,
      "outputs": []
    },
    {
      "cell_type": "markdown",
      "metadata": {},
      "source": [
        "## BaggingClassifier():"
      ]
    },
    {
      "cell_type": "code",
      "metadata": {},
      "source": [
        "# Add code here"
      ],
      "execution_count": null,
      "outputs": []
    },
    {
      "cell_type": "markdown",
      "metadata": {},
      "source": [
        "## XGboostclassifier():"
      ]
    },
    {
      "cell_type": "code",
      "metadata": {},
      "source": [
        "# Add code here"
      ],
      "execution_count": null,
      "outputs": []
    },
    {
      "cell_type": "markdown",
      "metadata": {},
      "source": [
        "# Classification with GridSearchCV (8 Points):\n",
        "\n",
        "Replicate the classification from Q2 using GridsearchCV()."
      ]
    },
    {
      "cell_type": "code",
      "metadata": {},
      "source": [
        "# Add code here"
      ],
      "execution_count": null,
      "outputs": []
    },
    {
      "cell_type": "markdown",
      "metadata": {},
      "source": [
        "# Classification with RandomSearchCV (8 Points):\n",
        "\n",
        "Replicate the classification from Q2 using RandomSearchCV()."
      ]
    },
    {
      "cell_type": "code",
      "metadata": {},
      "source": [
        "# Add code here"
      ],
      "execution_count": null,
      "outputs": []
    },
    {
      "cell_type": "markdown",
      "metadata": {},
      "source": [
        "# Comparison and Analysis (5 Points):\n",
        "\n",
        "Compare the results from Q2, Q3, and Q4. Describe the best hyperparameters for all three experiments."
      ]
    }
  ],
  "metadata": {
    "kernelspec": {
      "name": "python3",
      "language": "python",
      "display_name": "Python 3 (ipykernel)"
    }
  },
  "nbformat": 4,
  "nbformat_minor": 4
}